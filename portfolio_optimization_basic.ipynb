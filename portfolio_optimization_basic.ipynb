{
 "cells": [
  {
   "cell_type": "code",
   "execution_count": 3,
   "id": "61bce5a8",
   "metadata": {},
   "outputs": [],
   "source": [
    "import numpy as np\n",
    "import pandas as pd\n",
    "from scipy.optimize import minimize"
   ]
  },
  {
   "cell_type": "code",
   "execution_count": null,
   "id": "2fd6aabd",
   "metadata": {},
   "outputs": [],
   "source": [
    "def portfolio_variance(weights, cov_matrix):\n",
    "    \"\"\"포트폴리오 분산 계산 (표준편차)\"\"\"\n",
    "    return np.sqrt(np.dot(weights.T, np.dot(cov_matrix* 252, weights)))  # 연간화 위해 252 곱함\n",
    "\n",
    "def portfolio_return(weights, returns):\n",
    "    \"\"\"포트폴리오 기대 수익률 계산\"\"\"\n",
    "    return np.sum(returns * weights) * 252  # 연간화 위해 252 곱함\n",
    "\n",
    "def minimize_risk(weights, cov_matrix, returns, target_return):\n",
    "    \"\"\"목표 수익률 하에서 리스크 최소화\"\"\"\n",
    "    return portfolio_variance(weights, cov_matrix)\n",
    "\n",
    "def optimize_portfolio(returns, cov_matrix, target_return, bounds, constraints):\n",
    "    \"\"\"포트폴리오 최적화\"\"\"\n",
    "    init_guess= np.array([1.0 / len(returns)] * len(returns))  # 초기 가중치: 균등 분배\n",
    "    result = minimize(\n",
    "        fun=minimize_risk,\n",
    "        x0=init_guess,\n",
    "        args=(cov_matrix, returns, target_return),\n",
    "        method='SLSQP',\n",
    "        bounds=bounds,\n",
    "        constraints=constraints\n",
    "        )\n",
    "    return result"
   ]
  },
  {
   "cell_type": "code",
   "execution_count": 5,
   "id": "c4b703e1",
   "metadata": {},
   "outputs": [],
   "source": [
    " # 데이터\n",
    "data = {\n",
    "    'SS': [-0.003598, 0.031389, -0.019930, 0.042594, 0.027148, -0.058507, 0.048242, 0.005460, -0.012154, -0.009424, 0.004493, -0.055775, 0.026470, 0.014387, 0.004817, 0.002130, 0.049429, -0.015953, 0.034483, 0.006965, 0.003953, 0.045768, 0.008941, 0.030317, -0.007696, -0.025091, 0.035798, 0.087192, 0.015375, -0.006343, -0.003707, 0.032038, 0.075105, 0.074702, 0.010920, -0.011660, -0.038688, -0.009204, 0.047905, -0.032852, -0.027318, -0.086290, -0.009100, 0.011020, 0.022810, -0.166765, 0.072714, -0.034003, -0.056457, -0.043847, 0.087408, -0.020503, 0.142008, -0.015413, 0.038502, -0.021593, 0.110139, -0.007314, 0.080673, -0.003497],\n",
    "    'SKH': [0.029692, -0.024030, 0.028409, -0.081031, 0.039279, -0.082530, 0.018495, -0.017747, -0.042017, 0.010088, 0.023013, -0.028438, 0.055920, 0.105916, -0.003741, 0.002629, 0.091011, -0.016478, -0.010471, -0.001411, 0.042741, 0.017615, 0.050599, 0.046261, 0.026348, -0.026261, 0.005455, 0.015973, 0.013053, -0.036603, -0.033435, 0.018239, 0.023471, 0.006940, -0.042853, -0.015654, -0.075700, 0.086373, -0.031992, 0.033704, 0.036087, -0.071494, -0.027312, 0.065968, -0.051412, -0.155570, -0.131141, 0.022800, -0.088720, -0.188845, 0.082630, 0.206128, 0.105774, -0.036759, 0.076756, 0.036649, 0.054779, -0.003315, 0.104213, 0.079317],\n",
    "    'NAVER': [-0.065414, 0.129157, -0.052397, -0.027467, 0.016351, 0.070932, -0.019802, 0.037269, 0.083277, -0.120273,0.050740, 0.044601, 0.101445, -0.130283, 0.023123, 0.070423, -0.008262, -0.018821, 0.053774, 0.065055,-0.072289, 0.012383, 0.032816, 0.002311, -0.028530, 0.002670, -0.056509, -0.054563, 0.003317, -0.003306,0.131012, -0.020235, 0.163723, 0.051440, -0.036204, 0.036294, 0.240020, -0.011851, -0.123326, -0.137483,0.039387, 0.164293, -0.069681, -0.147922, 0.054836, -0.292842, 0.378648, 0.185423, 0.032098, -0.166667,0.061235, -0.153294, 0.204446, -0.053667, -0.039004, 0.004272, 0.072853, -0.038910, 0.156782, -0.075791],\n",
    "    'KAKAO': [-0.024159, -0.186025, -0.025867, -0.055734, 0.097342, -0.068150, 0.364461, -0.054264, 0.060890, -0.120088,0.215755, -0.027033, -0.049417, -0.164659, -0.024306, -0.036135, -0.017041, 0.117596, -0.304809, 0.146523,0.041842, 0.185866, 0.059071, -0.021815, -0.045362, 0.039023, 0.016607, 0.541342, 0.127344, -0.010558,0.148078, 0.017443, 0.165686, -0.042941, 0.015816, 0.022968, -0.161269, -0.170270, 0.105941, 0.102805,0.038026, -0.101568, 0.041047, 0.058554, -0.099616, -0.213304, -0.254018, 0.200937, 0.147036, 0.101496,0.133508, 0.096405, -0.031421, 0.072702, 0.025102, -0.053288, 0.149895, 0.272601, 0.143927, -0.010227]\n",
    "}"
   ]
  },
  {
   "cell_type": "code",
   "execution_count": 7,
   "id": "08ebd7a3",
   "metadata": {},
   "outputs": [
    {
     "name": "stdout",
     "output_type": "stream",
     "text": [
      "평균 수익률 (일간):\n",
      "SS       0.008810\n",
      "SKH      0.005623\n",
      "NAVER    0.012527\n",
      "KAKAO    0.028338\n",
      "dtype: float64\n",
      "\n",
      "공분산 행렬 (연간화):\n",
      "             SS       SKH     NAVER     KAKAO\n",
      "SS     0.002392  0.001435  0.001872  0.001697\n",
      "SKH    0.001435  0.004416 -0.000588  0.001851\n",
      "NAVER  0.001872 -0.000588  0.011942 -0.001731\n",
      "KAKAO  0.001697  0.001851 -0.001731  0.020546\n"
     ]
    }
   ],
   "source": [
    "# 데이터프레임 생성\n",
    "df = pd.DataFrame(data)\n",
    "\n",
    "# 결측치 확인 및 처리 (KAKAO의 결측치가 없으므로 이 단계는 생략 가능)\n",
    "# df['KAKAO'] = df['KAKAO'].fillna(df['KAKAO'].mean())\n",
    "\n",
    "# 평균 수익률 계산\n",
    "returns = df.mean()\n",
    "print(\"평균 수익률 (일간):\")\n",
    "print(returns)\n",
    "# 공분산 행렬 계산 (연간화 시에는 * 252)\n",
    "cov_matrix = df.cov() \n",
    "print(\"\\n공분산 행렬 (연간화):\")\n",
    "print(cov_matrix)"
   ]
  },
  {
   "cell_type": "code",
   "execution_count": 8,
   "id": "532b21c7",
   "metadata": {},
   "outputs": [
    {
     "name": "stdout",
     "output_type": "stream",
     "text": [
      "평균 수익률 (일간):\n",
      "SS       0.008810\n",
      "SKH      0.005623\n",
      "NAVER    0.012527\n",
      "KAKAO    0.028338\n",
      "dtype: float64\n",
      "\n",
      "공분산 행렬 (일간):\n",
      "             SS       SKH     NAVER     KAKAO\n",
      "SS     0.002392  0.001435  0.001872  0.001697\n",
      "SKH    0.001435  0.004416 -0.000588  0.001851\n",
      "NAVER  0.001872 -0.000588  0.011942 -0.001731\n",
      "KAKAO  0.001697  0.001851 -0.001731  0.020546\n",
      "\n",
      "연간화된 평균 수익률:\n",
      "SS       2.220120\n",
      "SKH      1.416996\n",
      "NAVER    3.156804\n",
      "KAKAO    7.141176\n",
      "dtype: float64\n",
      "\n",
      "연간화된 공분산 행렬:\n",
      "             SS       SKH     NAVER     KAKAO\n",
      "SS     0.602784  0.361620  0.471744  0.427644\n",
      "SKH    0.361620  1.112832 -0.148176  0.466452\n",
      "NAVER  0.471744 -0.148176  3.009384 -0.436212\n",
      "KAKAO  0.427644  0.466452 -0.436212  5.177592\n"
     ]
    }
   ],
   "source": [
    "# 엑셀 데이터: 평균 수익률과 공분산 행렬\n",
    "returns = np.array([0.008810, 0.005623, 0.012527, 0.028338])\n",
    "cov_matrix= np.array([\n",
    " [0.002392,  0.001435,  0.001872,  0.001697],\n",
    " [0.001435,  0.004416, -0.000588,  0.001851],\n",
    " [0.001872, -0.000588,  0.011942, -0.001731],\n",
    " [0.001697,  0.001851, -0.001731,  0.020546]\n",
    " ])\n",
    "# 결과 출력\n",
    "print(\"평균 수익률 (일간):\")\n",
    "print(pd.Series(returns, index=['SS', 'SKH', 'NAVER', 'KAKAO']))\n",
    "print(\"\\n공분산 행렬 (일간):\")\n",
    "print(pd.DataFrame(cov_matrix, index=['SS', 'SKH', 'NAVER', 'KAKAO'], columns=['SS', 'SKH', 'NAVER', 'KAKAO']))\n",
    "# 연간화된 수익률과 공분산 행렬\n",
    "annual_returns= returns * 252\n",
    "annual_cov_matrix= cov_matrix* 252\n",
    "print(\"\\n연간화된 평균 수익률:\")\n",
    "print(pd.Series(annual_returns, index=['SS', 'SKH', 'NAVER', 'KAKAO']))\n",
    "print(\"\\n연간화된 공분산 행렬:\")\n",
    "print(pd.DataFrame(annual_cov_matrix, index=['SS', 'SKH', 'NAVER', 'KAKAO'], columns=['SS', 'SKH', 'NAVER', 'KAKAO']))"
   ]
  },
  {
   "cell_type": "code",
   "execution_count": 9,
   "id": "27c5be97",
   "metadata": {},
   "outputs": [],
   "source": [
    "# 엑셀 데이터\n",
    "returns = np.array([0.008810, 0.005623, 0.012527, 0.028338])  # SS, SKH, NAVER, KAKAO의 평균 수익률\n",
    "cov_matrix = np.array([\n",
    " [0.002392,  0.001435,  0.001872,  0.001697],\n",
    " [0.001435,  0.004416, -0.000588,  0.001851],\n",
    " [0.001872, -0.000588,  0.011942, -0.001731],\n",
    " [0.001697,  0.001851, -0.001731,  0.020546]\n",
    "])"
   ]
  },
  {
   "cell_type": "code",
   "execution_count": 10,
   "id": "5cf87c79",
   "metadata": {},
   "outputs": [],
   "source": [
    "# Plan 1.자산배분 비중: 25%,25%,25%,25%\n",
    "weights = np.array([0.25, 0.25, 0.25, 0.25])\n",
    "\n",
    "# 포트폴리오 성과 계산 함수\n",
    "def portfolio_return(weights, returns):\n",
    "  \"\"\"포트폴리오 기대 수익률 계산 (일간, 비율로 반환)\"\"\"\n",
    "  return np.sum(returns * weights)\n",
    "\n",
    "def portfolio_variance(weights, cov_matrix):\n",
    "  \"\"\"포트폴리오 분산 계산 (일간)\"\"\"\n",
    "  return np.dot(weights.T, np.dot(cov_matrix, weights))\n",
    "\n",
    "# 포트폴리오 성과 계산\n",
    "port_return= portfolio_return(weights, returns)  # 일간 기대 수익률\n",
    "port_variance= portfolio_variance(weights, cov_matrix)  # 일간 분산\n",
    "port_std= np.sqrt(port_variance)  # 일간 표준편차\n",
    "port_sharpe_ratio= port_return/ port_std\n",
    "\n",
    "# 연간화 (252 거래일 기준)\n",
    "annual_port_return= port_return* 252\n",
    "annual_port_std= port_std* np.sqrt(252)\n",
    "annual_sharpe_ratio= port_sharpe_ratio* np.sqrt(252)"
   ]
  },
  {
   "cell_type": "code",
   "execution_count": 11,
   "id": "aa126bb5",
   "metadata": {},
   "outputs": [
    {
     "name": "stdout",
     "output_type": "stream",
     "text": [
      "(Plan 1) 결과:\n",
      "포트폴리오 기대 수익률 (일간): 1.3824%\n",
      "포트폴리오 분산 (일간): 0.3023%\n",
      "포트폴리오 표준편차 (일간): 5.4982%\n",
      "포트폴리오 샤프레이쇼 (일간): 25.1438%\n"
     ]
    }
   ],
   "source": [
    "# Plan 1.자산배분 비중: 25%,25%,25%,25%\n",
    "print(\"(Plan 1) 결과:\")\n",
    "print(f\"포트폴리오 기대 수익률 (일간): {port_return:.4%}\")\n",
    "print(f\"포트폴리오 분산 (일간): {port_variance:.4%}\")\n",
    "print(f\"포트폴리오 표준편차 (일간): {port_std:.4%}\")\n",
    "print(f\"포트폴리오 샤프레이쇼 (일간): {port_sharpe_ratio:.4%}\")"
   ]
  },
  {
   "cell_type": "code",
   "execution_count": 12,
   "id": "c0f233d7",
   "metadata": {},
   "outputs": [
    {
     "name": "stdout",
     "output_type": "stream",
     "text": [
      "포트폴리오 기대 수익률 (연간): 348.3774%\n",
      "포트폴리오 표준편차 (연간): 87.2809%\n",
      "포트폴리오 샤프레이쇼 (연간): 399.1449%\n"
     ]
    }
   ],
   "source": [
    "# Plan 1.자산배분 비중: 25%,25%,25%,25%\n",
    "print(f\"포트폴리오 기대 수익률 (연간): {annual_port_return:.4%}\")\n",
    "print(f\"포트폴리오 표준편차 (연간): {annual_port_std:.4%}\")\n",
    "print(f\"포트폴리오 샤프레이쇼 (연간): {annual_sharpe_ratio:.4%}\")"
   ]
  },
  {
   "cell_type": "code",
   "execution_count": 14,
   "id": "3f98a43c",
   "metadata": {},
   "outputs": [],
   "source": [
    "# Plan 2.자산배분 비중: 10%,20%,30%,40%\n",
    "weights = np.array([0.10, 0.20, 0.30, 0.40])\n",
    "\n",
    "# 포트폴리오 성과 계산 함수\n",
    "def portfolio_return(weights, returns):\n",
    "  \"\"\"포트폴리오 기대 수익률 계산 (일간, 비율로 반환)\"\"\"\n",
    "  return np.sum(returns * weights)\n",
    "\n",
    "def portfolio_variance(weights, cov_matrix):\n",
    "  \"\"\"포트폴리오 분산 계산 (일간)\"\"\"\n",
    "  return np.dot(weights.T, np.dot(cov_matrix, weights))\n",
    "\n",
    "# 포트폴리오 성과 계산\n",
    "port_return= portfolio_return(weights, returns)  # 일간 기대 수익률\n",
    "port_variance= portfolio_variance(weights, cov_matrix)  # 일간 분산\n",
    "port_std= np.sqrt(port_variance)  # 일간 표준편차\n",
    "port_sharpe_ratio= port_return/ port_std\n",
    "\n",
    "# 연간화 (252 거래일 기준)\n",
    "annual_port_return= port_return* 252\n",
    "annual_port_std= port_std* np.sqrt(252)\n",
    "annual_sharpe_ratio= port_sharpe_ratio* np.sqrt(252)"
   ]
  },
  {
   "cell_type": "code",
   "execution_count": 15,
   "id": "703a69d8",
   "metadata": {},
   "outputs": [
    {
     "name": "stdout",
     "output_type": "stream",
     "text": [
      "(Plan 2) 결과:\n",
      "포트폴리오 기대 수익률 (일간): 1.7099%\n",
      "포트폴리오 분산 (일간): 0.4678%\n",
      "포트폴리오 표준편차 (일간): 6.8398%\n",
      "포트폴리오 샤프레이쇼 (일간): 24.9990%\n"
     ]
    }
   ],
   "source": [
    "# Plan 2.자산배분 비중: 10%,20%,30%,40%\n",
    "print(\"(Plan 2) 결과:\")\n",
    "print(f\"포트폴리오 기대 수익률 (일간): {port_return:.4%}\")\n",
    "print(f\"포트폴리오 분산 (일간): {port_variance:.4%}\")\n",
    "print(f\"포트폴리오 표준편차 (일간): {port_std:.4%}\")\n",
    "print(f\"포트폴리오 샤프레이쇼 (일간): {port_sharpe_ratio:.4%}\")"
   ]
  },
  {
   "cell_type": "code",
   "execution_count": 16,
   "id": "0f23242c",
   "metadata": {},
   "outputs": [
    {
     "name": "stdout",
     "output_type": "stream",
     "text": [
      "포트폴리오 기대 수익률 (연간): 430.8923%\n",
      "포트폴리오 표준편차 (연간): 108.5791%\n",
      "포트폴리오 샤프레이쇼 (연간): 396.8465%\n"
     ]
    }
   ],
   "source": [
    "# Plan 2.자산배분 비중: 10%,20%,30%,40%\n",
    "print(f\"포트폴리오 기대 수익률 (연간): {annual_port_return:.4%}\")\n",
    "print(f\"포트폴리오 표준편차 (연간): {annual_port_std:.4%}\")\n",
    "print(f\"포트폴리오 샤프레이쇼 (연간): {annual_sharpe_ratio:.4%}\")"
   ]
  },
  {
   "cell_type": "code",
   "execution_count": 17,
   "id": "75345ba7",
   "metadata": {},
   "outputs": [],
   "source": [
    "# Plan 3.자산배분 비중: 10%,50%,30%,10%\n",
    "weights = np.array([0.10, 0.50, 0.30, 0.10])\n",
    "\n",
    "# 포트폴리오 성과 계산 함수\n",
    "def portfolio_return(weights, returns):\n",
    "  \"\"\"포트폴리오 기대 수익률 계산 (일간, 비율로 반환)\"\"\"\n",
    "  return np.sum(returns * weights)\n",
    "\n",
    "def portfolio_variance(weights, cov_matrix):\n",
    "  \"\"\"포트폴리오 분산 계산 (일간)\"\"\"\n",
    "  return np.dot(weights.T, np.dot(cov_matrix, weights))\n",
    "\n",
    "# 포트폴리오 성과 계산\n",
    "port_return= portfolio_return(weights, returns)  # 일간 기대 수익률\n",
    "port_variance= portfolio_variance(weights, cov_matrix)  # 일간 분산\n",
    "port_std= np.sqrt(port_variance)  # 일간 표준편차\n",
    "port_sharpe_ratio= port_return/ port_std\n",
    "\n",
    "# 연간화 (252 거래일 기준)\n",
    "annual_port_return= port_return* 252\n",
    "annual_port_std= port_std* np.sqrt(252)\n",
    "annual_sharpe_ratio= port_sharpe_ratio* np.sqrt(252)"
   ]
  },
  {
   "cell_type": "code",
   "execution_count": 18,
   "id": "39fedc1f",
   "metadata": {},
   "outputs": [
    {
     "name": "stdout",
     "output_type": "stream",
     "text": [
      "(Plan 3) 결과:\n",
      "포트폴리오 기대 수익률 (일간): 1.0284%\n",
      "포트폴리오 분산 (일간): 0.2603%\n",
      "포트폴리오 표준편차 (일간): 5.1017%\n",
      "포트폴리오 샤프레이쇼 (일간): 20.1587%\n"
     ]
    }
   ],
   "source": [
    "# Plan 3.자산배분 비중: 10%,50%,30%,10%\n",
    "print(\"(Plan 3) 결과:\")\n",
    "print(f\"포트폴리오 기대 수익률 (일간): {port_return:.4%}\")\n",
    "print(f\"포트폴리오 분산 (일간): {port_variance:.4%}\")\n",
    "print(f\"포트폴리오 표준편차 (일간): {port_std:.4%}\")\n",
    "print(f\"포트폴리오 샤프레이쇼 (일간): {port_sharpe_ratio:.4%}\")"
   ]
  },
  {
   "cell_type": "code",
   "execution_count": 19,
   "id": "1d999586",
   "metadata": {},
   "outputs": [
    {
     "name": "stdout",
     "output_type": "stream",
     "text": [
      "포트폴리오 기대 수익률 (연간): 259.1669%\n",
      "포트폴리오 표준편차 (연간): 80.9874%\n",
      "포트폴리오 샤프레이쇼 (연간): 320.0090%\n"
     ]
    }
   ],
   "source": [
    "# Plan 3.자산배분 비중: 10%,50%,30%,10%\n",
    "print(f\"포트폴리오 기대 수익률 (연간): {annual_port_return:.4%}\")\n",
    "print(f\"포트폴리오 표준편차 (연간): {annual_port_std:.4%}\")\n",
    "print(f\"포트폴리오 샤프레이쇼 (연간): {annual_sharpe_ratio:.4%}\")"
   ]
  },
  {
   "cell_type": "markdown",
   "id": "7f4d4dfb",
   "metadata": {},
   "source": [
    "Optimized Asset Weight"
   ]
  },
  {
   "cell_type": "code",
   "execution_count": 20,
   "id": "d772b0b0",
   "metadata": {},
   "outputs": [
    {
     "name": "stdout",
     "output_type": "stream",
     "text": [
      "최적화된 가중치:\n",
      "SS: 37.2486%, SKH: 35.9914%, NAVER: 16.4990%, KAKAO: 10.2610%\n",
      "포트폴리오 기대 수익률: 1.0280%\n",
      "포트폴리오 표준편차: 0.2198%\n"
     ]
    }
   ],
   "source": [
    "#  데이터\n",
    "returns = np.array([0.008810, 0.005623, 0.012527, 0.028338])\n",
    "cov_matrix= np.array([\n",
    " [0.002392,  0.001435,  0.001872,  0.001697],\n",
    " [0.001435,  0.004416, -0.000588,  0.001851],\n",
    " [0.001872, -0.000588,  0.011942, -0.001731],\n",
    " [0.001697,  0.001851, -0.001731,  0.020546]\n",
    " ])\n",
    "target_return= 0.01028\n",
    "\n",
    "# 최적화 제약 조건\n",
    "bounds = [(0, 1)] * len(returns)  # 가중치 0~1\n",
    "constraints = [\n",
    " {'type': 'eq', 'fun': lambda w: np.sum(w) -1},  # 가중치 합 = 1\n",
    " {'type': 'ineq', 'fun': lambda w: portfolio_return(w, returns) -target_return}  # 기대 수익률 >= 목표\n",
    "]\n",
    "\n",
    "# 최적화 실행\n",
    "result = optimize_portfolio(returns, cov_matrix, target_return, bounds, constraints)\n",
    "\n",
    "if result.success:\n",
    " optimal_weights= result.x\n",
    " print(\"최적화된 가중치:\")\n",
    " print(f\"SS: {optimal_weights[0]:.4%}, SKH: {optimal_weights[1]:.4%}, NAVER: {optimal_weights[2]:.4%}, KAKAO: {optimal_weights[3]:.4%}\")\n",
    " print(f\"포트폴리오 기대 수익률: {portfolio_return(optimal_weights, returns):.4%}\")\n",
    " print(f\"포트폴리오 표준편차: {portfolio_variance(optimal_weights, cov_matrix):.4%}\")\n",
    "else:\n",
    " print(\"최적화 실패:\", result.message)"
   ]
  },
  {
   "cell_type": "code",
   "execution_count": null,
   "id": "034444cb",
   "metadata": {},
   "outputs": [],
   "source": []
  }
 ],
 "metadata": {
  "kernelspec": {
   "display_name": "Python 3",
   "language": "python",
   "name": "python3"
  },
  "language_info": {
   "codemirror_mode": {
    "name": "ipython",
    "version": 3
   },
   "file_extension": ".py",
   "mimetype": "text/x-python",
   "name": "python",
   "nbconvert_exporter": "python",
   "pygments_lexer": "ipython3",
   "version": "3.12.1"
  }
 },
 "nbformat": 4,
 "nbformat_minor": 5
}
